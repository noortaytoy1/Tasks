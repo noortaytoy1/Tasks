{
 "cells": [
  {
   "cell_type": "code",
   "execution_count": null,
   "id": "0c14c322",
   "metadata": {},
   "outputs": [],
   "source": [
    "from datasets import load_dataset\n",
    "dataset = load_dataset(\"squad\")"
   ]
  },
  {
   "cell_type": "code",
   "execution_count": null,
   "id": "95adcb06",
   "metadata": {},
   "outputs": [],
   "source": [
    "from transformers import AutoTokenizer, AutoModelForQuestionAnswering, pipeline\n",
    "tokenizer = AutoTokenizer.from_pretrained(\"distilbert-base-uncased-distilled-squad\")\n",
    "model = AutoModelForQuestionAnswering.from_pretrained(\"distilbert-base-uncased-distilled-squad\")\n",
    "qa_pipeline = pipeline(\"question-answering\", model=model, tokenizer=tokenizer)\n"
   ]
  },
  {
   "cell_type": "code",
   "execution_count": null,
   "id": "f01c578b",
   "metadata": {},
   "outputs": [],
   "source": [
    "context = dataset['validation'][0]['context']\n",
    "question = dataset['validation'][0]['question']\n",
    "\n",
    "result = qa_pipeline({'context': context, 'question': question})\n",
    "print(\"Q:\", question)\n",
    "print(\"A:\", result['answer'])"
   ]
  },
  {
   "cell_type": "code",
   "execution_count": 4,
   "id": "053d9f68",
   "metadata": {},
   "outputs": [
    {
     "name": "stdout",
     "output_type": "stream",
     "text": [
      "Exact Match: 84.0\n",
      "F1 Score: 88.53333333333335\n"
     ]
    }
   ],
   "source": [
    "from evaluate import load\n",
    "\n",
    "metric = load(\"squad\")\n",
    "predictions = []\n",
    "references = []\n",
    "\n",
    "for example in dataset['validation'].select(range(100)):\n",
    "    pred = qa_pipeline({'context': example['context'], 'question': example['question']})['answer']\n",
    "    predictions.append({'id': example['id'], 'prediction_text': pred})\n",
    "    references.append({'id': example['id'], 'answers': example['answers']})\n",
    "\n",
    "result = metric.compute(predictions=predictions, references=references)\n",
    "print(\"Exact Match:\", result['exact_match'])\n",
    "print(\"F1 Score:\", result['f1'])\n"
   ]
  }
 ],
 "metadata": {
  "kernelspec": {
   "display_name": "Python 3",
   "language": "python",
   "name": "python3"
  },
  "language_info": {
   "codemirror_mode": {
    "name": "ipython",
    "version": 3
   },
   "file_extension": ".py",
   "mimetype": "text/x-python",
   "name": "python",
   "nbconvert_exporter": "python",
   "pygments_lexer": "ipython3",
   "version": "3.11.8"
  }
 },
 "nbformat": 4,
 "nbformat_minor": 5
}
