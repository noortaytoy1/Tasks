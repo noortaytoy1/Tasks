{
 "cells": [
  {
   "cell_type": "code",
   "execution_count": null,
   "id": "3729b1b0",
   "metadata": {},
   "outputs": [],
   "source": [
    "import pandas as pd\n",
    "\n",
    "df = pd.read_csv('ag_news_train.csv')\n",
    "print(df.columns)  # Check column names\n",
    "print(df.head())\n",
    "\n",
    "# Use the actual label column name\n",
    "print(df['Class Index'].value_counts())\n",
    "\n",
    "# Combine Title and Description into one feature\n",
    "df['text'] = df['Title'] + \" \" + df['Description']\n"
   ]
  },
  {
   "cell_type": "code",
   "execution_count": null,
   "id": "a93c17a3",
   "metadata": {},
   "outputs": [],
   "source": [
    "import nltk\n",
    "import string\n",
    "from nltk.corpus import stopwords\n",
    "from nltk.stem import WordNetLemmatizer\n",
    "\n",
    "nltk.download('stopwords')\n",
    "nltk.download('wordnet')\n",
    "\n",
    "stop_words = set(stopwords.words('english'))\n",
    "lemmatizer = WordNetLemmatizer()\n",
    "\n",
    "def preprocess(text):\n",
    "    text = text.lower()\n",
    "    text = \"\".join([c for c in text if c not in string.punctuation])\n",
    "    words = text.split()\n",
    "    words = [lemmatizer.lemmatize(w) for w in words if w not in stop_words]\n",
    "    return \" \".join(words)\n",
    "\n",
    "df['cleaned'] = df['text'].apply(preprocess)\n"
   ]
  },
  {
   "cell_type": "code",
   "execution_count": null,
   "id": "8a5b620b",
   "metadata": {},
   "outputs": [],
   "source": [
    "from sklearn.feature_extraction.text import TfidfVectorizer\n",
    "\n",
    "vectorizer = TfidfVectorizer(max_features=5000)\n",
    "X = vectorizer.fit_transform(df['cleaned'])\n"
   ]
  },
  {
   "cell_type": "code",
   "execution_count": null,
   "id": "a5ba1b36",
   "metadata": {},
   "outputs": [],
   "source": [
    "from sklearn.model_selection import train_test_split\n",
    "\n",
    "y = df['Class Index']  # or df['Category'] if you mapped class names\n",
    "X_train, X_test, y_train, y_test = train_test_split(X, y, test_size=0.2, random_state=42)\n"
   ]
  },
  {
   "cell_type": "code",
   "execution_count": null,
   "id": "d406efd4",
   "metadata": {},
   "outputs": [],
   "source": [
    "print(\"----------------------------------------------------------- Logistic Regression Prediction Accuracy Results -----------------------------------------------\")\n",
    "from sklearn.linear_model import LogisticRegression\n",
    "from sklearn.metrics import classification_report, accuracy_score\n",
    "\n",
    "logreg = LogisticRegression(max_iter=1000)\n",
    "logreg.fit(X_train, y_train)\n",
    "y_pred_logreg = logreg.predict(X_test)\n",
    "\n",
    "print(\"Logistic Regression Accuracy:\", accuracy_score(y_test, y_pred_logreg))\n",
    "print(classification_report(y_test, y_pred_logreg))\n"
   ]
  },
  {
   "cell_type": "code",
   "execution_count": null,
   "id": "9e3f7623",
   "metadata": {},
   "outputs": [],
   "source": [
    "import numpy as np\n",
    "\n",
    "y_train_fixed = np.array(y_train) - np.min(y_train)\n",
    "y_test_fixed = np.array(y_test) - np.min(y_train)\n",
    "\n",
    "from sklearn.linear_model import LogisticRegression\n",
    "from sklearn.metrics import classification_report, accuracy_score\n",
    "from xgboost import XGBClassifier\n",
    "\n",
    "print(\"-\" * 50, \"Prediction Accuracy Results\", \"-\" * 50)\n",
    "logreg = LogisticRegression(max_iter=1000)\n",
    "logreg.fit(X_train, y_train_fixed)\n",
    "y_pred_logreg = logreg.predict(X_test)\n",
    "\n",
    "print(\"\\nLogistic Regression Accuracy:\", accuracy_score(y_test_fixed, y_pred_logreg))\n",
    "print(classification_report(y_test_fixed, y_pred_logreg, digits=4))\n",
    "xgb = XGBClassifier(use_label_encoder=False, eval_metric='mlogloss')\n",
    "xgb.fit(X_train, y_train_fixed)\n",
    "y_pred_xgb = xgb.predict(X_test)\n",
    "\n",
    "print(\"\\nXGBoost Accuracy:\", accuracy_score(y_test_fixed, y_pred_xgb))\n",
    "print(classification_report(y_test_fixed, y_pred_xgb, digits=4))\n"
   ]
  }
 ],
 "metadata": {
  "language_info": {
   "name": "python"
  }
 },
 "nbformat": 4,
 "nbformat_minor": 5
}
